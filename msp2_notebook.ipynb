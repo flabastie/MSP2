{
 "cells": [
  {
   "cell_type": "markdown",
   "metadata": {},
   "source": [
    "# Intégration IA app Flask"
   ]
  },
  {
   "cell_type": "markdown",
   "metadata": {},
   "source": [
    "L'objectif de ce notebook est de proposer un exemple simple d'intégration de micro-services d'intelligence artificielle dans une app web."
   ]
  },
  {
   "cell_type": "markdown",
   "metadata": {},
   "source": [
    "## Echauffement : Envoyer une requête à un site"
   ]
  },
  {
   "cell_type": "markdown",
   "metadata": {},
   "source": [
    "Quelles sont les méthodes de requêtes http que vous connaissez ? "
   ]
  },
  {
   "cell_type": "markdown",
   "metadata": {},
   "source": [
    "- GET\n",
    "- HEAD\n",
    "- POST\n",
    "- PUT\n",
    "- DELETE\n",
    "- CONNECT\n",
    "- OPTIONS\n",
    "- TRACE\n",
    "- PATCH\n"
   ]
  },
  {
   "cell_type": "markdown",
   "metadata": {},
   "source": [
    "A l'aide de la librairie requests, envoyer une requête au site suivant : https://github.com/timeline.json\n",
    "<br>\n",
    "Affichez la réponse"
   ]
  },
  {
   "cell_type": "code",
   "execution_count": 1,
   "metadata": {},
   "outputs": [],
   "source": [
    "import requests\n",
    "from flask import Flask\n",
    "app = Flask(__name__)\n",
    "\n",
    "@app.route('/timeline')\n",
    "def get_data():\n",
    "    return requests.get('https://github.com/timeline.json').content\n",
    "\n",
    "res = get_data()"
   ]
  },
  {
   "cell_type": "code",
   "execution_count": 2,
   "metadata": {},
   "outputs": [
    {
     "name": "stdout",
     "output_type": "stream",
     "text": [
      "{\"message\":\"Hello there, wayfaring stranger. If you’re reading this then you probably didn’t see our blog post a couple of years back announcing that this API would go away: http://git.io/17AROg Fear not, you should be able to get what you need from the shiny new Events API instead.\",\"documentation_url\":\"https://developer.github.com/v3/activity/events/#list-public-events\"}\n"
     ]
    }
   ],
   "source": [
    "# https://fr.python-requests.org/en/latest/user/quickstart.html#reponse-json\n",
    "\n",
    "import requests\n",
    "r = requests.get('https://github.com/timeline.json')\n",
    "result = r.content\n",
    "# type(result)\n",
    "\n",
    "print(r.text)"
   ]
  },
  {
   "cell_type": "markdown",
   "metadata": {},
   "source": [
    "Quel est le format de la réponse envoyée ? "
   ]
  },
  {
   "cell_type": "code",
   "execution_count": 3,
   "metadata": {},
   "outputs": [
    {
     "name": "stdout",
     "output_type": "stream",
     "text": [
      "\n",
      "Format du document :  application/json; charset=utf-8\n"
     ]
    }
   ],
   "source": [
    "print('\\nFormat du document : ',r.headers['Content-Type'])"
   ]
  },
  {
   "cell_type": "markdown",
   "metadata": {},
   "source": [
    "## MSP 2 Choix du sujet"
   ]
  },
  {
   "cell_type": "markdown",
   "metadata": {},
   "source": [
    "Deux applications business vous sont proposées pour la suite. Vous devez en choisir **UNE** et répondre aux questions suivantes."
   ]
  },
  {
   "cell_type": "markdown",
   "metadata": {},
   "source": [
    "#### Application 1 : \n",
    "Vous êtes une entreprise qui possède un blog présentant des articles ainsi qu'un espace de commentaires. Afin de prévenir une éventuelle vague de commentaires haineux, et pour se soumettre à la législation qui oblige une modération sur les blogs, vous décidez de faire appel à une API de modération de contenu pour ne pas avoir à employer de modérateurs. En effet, les éditeurs de services qui ne prennent pas des mesures préventives sérieuses s’exposent à des risques d’amende, voire de fermeture du site."
   ]
  },
  {
   "cell_type": "markdown",
   "metadata": {},
   "source": [
    "[Application 1](https://ibb.co/gWyBRn4)\n",
    "<br>\n",
    "<a href=\"https://ibb.co/gWyBRn4\"><img src=\"https://i.ibb.co/gWyBRn4/Capture-d-e-cran-de-2020-07-20-09-49-52.png\" alt=\"Capture-d-e-cran-de-2020-07-20-09-49-52\" border=\"0\"></a> "
   ]
  },
  {
   "cell_type": "markdown",
   "metadata": {},
   "source": [
    "#### Application 2 : \n",
    "Vous êtes une entreprise qui possède une grande quantité d'images retraçant des opérations de vente passées (par exemple). Vous avez besoin d'obtenir les informations de texte contenues dans ces fichiers. Vous décidez pour cela d'utiliser une api d'OCR (Reconnaissance Optique de Caractères) afin d'extraire le texte des images."
   ]
  },
  {
   "cell_type": "markdown",
   "metadata": {},
   "source": [
    "[Application 2](https://ibb.co/R9JyvZF)\n",
    "<br>\n",
    "<a href=\"https://ibb.co/R9JyvZF\"><img src=\"https://i.ibb.co/R9JyvZF/Capture-d-e-cran-de-2020-07-20-09-50-26.png\" alt=\"Capture-d-e-cran-de-2020-07-20-09-50-26\" border=\"0\"></a>"
   ]
  },
  {
   "cell_type": "markdown",
   "metadata": {},
   "source": [
    "## MSP2 Rédaction"
   ]
  },
  {
   "cell_type": "markdown",
   "metadata": {},
   "source": [
    "### 1) La problématique business"
   ]
  },
  {
   "cell_type": "markdown",
   "metadata": {},
   "source": [
    "Reformuler avec plus de détails le besoin business associée au sujet que vous avez choisie. Vous pouvez bien sûr vous éloigner de ce qu'on propose, mais, pour gagner du temps faites en sorte que vous puissiez réutiliser l'un des deux modèles d'app (que vous ayez pas à en refaire from scratch), et que les API d'IA que vous voulez importer existent bien. "
   ]
  },
  {
   "cell_type": "markdown",
   "metadata": {},
   "source": [
    "La cinémathèque française propose divers blogs : http://blog.cinematheque.fr/\n",
    "\n",
    "> Le réseau des blogs de la Cinémathèque française permet l’accès aux blogs du projet pédagogique \n",
    "« Le Cinéma, cent ans de jeunesse » et à l’archive du blog de Serge Toubiana, \n",
    "directeur de la Cinémathèque française de 2003 à 2015.\n",
    "\n",
    "Les blogs proposent des commentaires qui doivent être modérés."
   ]
  },
  {
   "cell_type": "markdown",
   "metadata": {},
   "source": [
    "### 2) L'usage de l'IA"
   ]
  },
  {
   "cell_type": "markdown",
   "metadata": {},
   "source": [
    "Reformuler avec plus de détails en quoi l'IA peut venir résoudre le problème business"
   ]
  },
  {
   "cell_type": "markdown",
   "metadata": {},
   "source": [
    "Une notation des commentaires permet aux modérateurs de gagner du temps et d’intervenir en priorité sur les messages posant problème. Pour que le système fonctionne, c’est aux humains — aux modérateurs et aux ingénieurs dans ce cas — d’alimenter le programme, de l’entraîner, de le mettre à jour en permanence. Les archives des commentaires déjà modérés ont servi de base de travail, ainsi que des pages provenant de Wikipedia. C’est ce qu’on appelle le “machine learning”.\n",
    "\n",
    "https://medium.com/@mfouquenet/m%C3%A9dias-et-intelligence-artificielle-la-mod%C3%A9ration-automatique-est-elle-pour-bient%C3%B4t-cace0efccec"
   ]
  },
  {
   "cell_type": "markdown",
   "metadata": {},
   "source": [
    "### 3) L'état de l'art et des solutions existantes"
   ]
  },
  {
   "cell_type": "markdown",
   "metadata": {},
   "source": [
    "Parmi les différents services que vous connaissez (OVH Cloud, GCP, Microsoft Azure, AWS, Elastic Cloud, ...), établissez un comparatif des API en termes\n",
    "de prix et de services proposés permettant de répondre au problème que vous avez choisi ci dessus. "
   ]
  },
  {
   "cell_type": "markdown",
   "metadata": {},
   "source": [
    "### OVH Cloud   \n",
    "https://www.ovhcloud.com/fr/case-studies/bodyguard/   \n",
    "Service managé, facile à utiliser et qui permet d’accélérer la mise en production.\n",
    "OVHcloud AutoML, une plateforme d’apprentissage automatique, distribuée et évolutive. Cette solution Software as a Service(SaaS) permet d’automatiser les processus de création, de déploiement ainsi que de requête des modèles de machine learning. Elle donne  égalementla possibilité d’intégrer des algorithmes open source, tels que ceux proposés par scikit-learn.\n",
    "\n",
    "### Azure Content Moderator\n",
    "https://docs.microsoft.com/fr-fr/azure/cognitive-services/content-moderator/overview    \n",
    "Azure Content Moderator est un service cognitif qui vérifie le texte, les images et le contenu vidéo à la recherche d’éléments potentiellement dangereux, offensants ou indésirables. Quand des éléments de ce type sont détectés, le service applique les étiquettes appropriées (indicateurs) au contenu. L’application peut ensuite gérer le contenu marqué afin de se conformer aux réglementations ou pour maintenir l’environnement souhaité pour les utilisateurs.\n",
    "\n",
    "### Amazon Comprehend\n",
    "https://aws.amazon.com/fr/comprehend/   \n",
    "https://aws.amazon.com/fr/about-aws/whats-new/2018/11/amazon-comprehend-introduces-custom-classification/  \n",
    "\n",
    "### Elastic Cloud   \n",
    "https://aws.amazon.com/fr/solutions/implementations/analyzing-text-with-amazon-elasticsearch-service-and-amazon-comprehend/   \n"
   ]
  },
  {
   "cell_type": "markdown",
   "metadata": {},
   "source": [
    "### 4) L'implémentation avec Azure"
   ]
  },
  {
   "cell_type": "markdown",
   "metadata": {},
   "source": [
    "Nous choisissons d'utiliser Azure. Azure propose des cognitives services qui regroupent plusieurs API pré-entrainées utilisant de l'intelligence artificielle. Vous pouvez accéder à la [documentation](https://docs.microsoft.com/fr-fr/azure/cognitive-services/) de ces services.\n",
    "<br> \n",
    "Vous pouvez tester certains de ces services en ligne, après avoir créé une ressource pour obtenir la clé permettant d'utiliser les applications. La [documentation](https://docs.microsoft.com/en-us/azure/cognitive-services/cognitive-services-apis-create-account?tabs=multiservice%2Cwindows) explique comment créer ces ressources, et accéder aux clés."
   ]
  },
  {
   "cell_type": "markdown",
   "metadata": {},
   "source": [
    "Parmi tous les services disponibles, Azure propose les services permettant de répondre aux deux applications, dans les API de cognitive services : \n",
    "- OCR ( [doc](https://docs.microsoft.com/fr-fr/azure/cognitive-services/computer-vision/concept-recognizing-text))\n",
    "- Content Moderator ( [doc](https://docs.microsoft.com/fr-fr/azure/cognitive-services/content-moderator/overview))"
   ]
  },
  {
   "cell_type": "markdown",
   "metadata": {},
   "source": [
    "A l'aide de la librairie requests, envoyez une requête vers l'API que vous avez choisie pour votre business case, en vous assurant que la réponse renvoyée corresponde bien à vos attentes"
   ]
  },
  {
   "cell_type": "code",
   "execution_count": 4,
   "metadata": {},
   "outputs": [],
   "source": [
    "# key1 db8e4602d7df4f6aa85d537558c3a63a\n",
    "# key2 86552b89188c4cb6931526f3b9fb818c\n",
    "# endpoint https://francecentral.api.cognitive.microsoft.com/\n",
    "# francecentral\n",
    "\n",
    "# export COGNITIVE_SERVICE_KEY=db8e4602d7df4f6aa85d537558c3a63a\n",
    "\n",
    "# You fucking assholes! Go get fucked in the ass! Big pigs You swollen shit !!!\n",
    "# Hello, cucumber!"
   ]
  },
  {
   "cell_type": "markdown",
   "metadata": {},
   "source": [
    "### 5) Intégration dans l'App"
   ]
  },
  {
   "cell_type": "markdown",
   "metadata": {},
   "source": [
    "Le code du site web pour chacun des business case est disponible dans le fichier zip qui vous à été transmis. \n",
    "<br>\n",
    "Intégrez votre appel d'API dans l'application pour pouvoir répondre au business case que vous avec choisi."
   ]
  },
  {
   "cell_type": "code",
   "execution_count": 52,
   "metadata": {},
   "outputs": [
    {
     "name": "stdout",
     "output_type": "stream",
     "text": [
      "\n",
      "\n",
      "{'OriginalText': '[{\"text\": \"Putain de merde\"}]', 'NormalizedText': '[{\"text\": \"Putain  merde\"}]', 'Misrepresentation': None, 'Language': 'fra', 'Terms': [{'Index': 11, 'OriginalIndex': 11, 'ListId': 0, 'Term': 'putain'}, {'Index': -1, 'OriginalIndex': 18, 'ListId': 0, 'Term': 'de merde'}, {'Index': 19, 'OriginalIndex': 21, 'ListId': 0, 'Term': 'merde'}], 'Status': {'Code': 3000, 'Description': 'OK', 'Exception': None}, 'TrackingId': 'FC_ibiza_030117c9-e67b-4755-af85-4683fe8eddf2_CognitiveServices.S0_e2a5b79e-d0e4-4838-b605-cf91aeeb3183'}\n"
     ]
    }
   ],
   "source": [
    "import requests, urllib, json\n",
    "\n",
    "headers = {\n",
    "    # Request headers\n",
    "    'Content-Type': 'text/plain',\n",
    "    'Ocp-Apim-Subscription-Key': 'db8e4602d7df4f6aa85d537558c3a63a'\n",
    "}\n",
    "\n",
    "params = ({\n",
    "    # Request parameters\n",
    "    'classify': 'True'})\n",
    "\n",
    "# body = [{'text' :'You fucking assholes!'}]\n",
    "body = [{'text' :'Putain de merde'}]\n",
    "url = 'https://francecentral.api.cognitive.microsoft.com/contentmoderator/moderate/v1.0/ProcessText/Screen?classify=True'\n",
    "r = requests.post(url, json = body, params = params,headers= headers )\n",
    "# pprint(r.__dict__)\n",
    "print('\\n')\n",
    "# pprint(r._content)\n",
    "json_data = json.loads(r.text)\n",
    "# pprint(json_data['Terms'])\n",
    "# pprint(len(json_data['Terms']))\n",
    "# pprint(json_data['Classification'])\n",
    "# print(len(json_data['Terms']))\n",
    "print(r.json())"
   ]
  },
  {
   "cell_type": "markdown",
   "metadata": {},
   "source": [
    "Montrez l'impact des modifications que vous avez apportées sur l'application. Vous pouvez inclure des screenshots de l'application modifiée."
   ]
  },
  {
   "cell_type": "code",
   "execution_count": null,
   "metadata": {},
   "outputs": [],
   "source": []
  },
  {
   "cell_type": "markdown",
   "metadata": {},
   "source": [
    "Dans votre rédaction de MSP2, pensez à inclure des briques de code pour montrer le travail réalisé (notamment le script qui appelle l'API)."
   ]
  },
  {
   "cell_type": "markdown",
   "metadata": {},
   "source": [
    "## Bonus"
   ]
  },
  {
   "cell_type": "markdown",
   "metadata": {},
   "source": [
    "- Déployer l'app sur Azure en ayant recours à un Docker\n",
    "- Introduire une base de données persistante à l'app"
   ]
  }
 ],
 "metadata": {
  "kernelspec": {
   "display_name": "Python 3",
   "language": "python",
   "name": "python3"
  },
  "language_info": {
   "codemirror_mode": {
    "name": "ipython",
    "version": 3
   },
   "file_extension": ".py",
   "mimetype": "text/x-python",
   "name": "python",
   "nbconvert_exporter": "python",
   "pygments_lexer": "ipython3",
   "version": "3.7.7"
  }
 },
 "nbformat": 4,
 "nbformat_minor": 4
}
